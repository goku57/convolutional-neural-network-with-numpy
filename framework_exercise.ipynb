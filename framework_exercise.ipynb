{
 "cells": [
  {
   "cell_type": "markdown",
   "metadata": {},
   "source": [
    "# ML-Fundamentals - Neural Networks - Exercise: Neural Network Framework"
   ]
  },
  {
   "cell_type": "markdown",
   "metadata": {},
   "source": [
    "# Tasks\n",
    "Your main goal is to extend the existing framework, to perform experiments with different model combinations and to document your observations. Here is a list of necessary tasks and some ideas for additional points:\n",
    "\n",
    "  * (5) 1 to 5 points are given for improving the class and method comments in the framework files. Points are given based on the quality and quantity of the comments.\n",
    "  * (5) Implement `Batchnorm` in `layer.py` and test your implementation with a toy example. Create and train a model that includes Dropout as a layer.\n",
    "  * (5) Do something extra, up to 5 points.  \n",
    "  \n",
    "Please document thoroughly and explain what you do in your experiments, so that work in the notebook is comprehensible, else no points are given."
   ]
  },
  {
   "cell_type": "markdown",
   "metadata": {},
   "source": [
    "# Requirements"
   ]
  },
  {
   "cell_type": "markdown",
   "metadata": {},
   "source": [
    "## Python-Modules"
   ]
  },
  {
   "cell_type": "code",
   "execution_count": 1,
   "metadata": {},
   "outputs": [],
   "source": [
    "# custom\n",
    "from htw_nn_framework.networks import NeuralNetwork\n",
    "from htw_nn_framework.layer import *\n",
    "from htw_nn_framework.activation_func import *\n",
    "from htw_nn_framework.loss_func import *\n",
    "from htw_nn_framework.optimizer import *\n",
    "\n",
    "# third party\n",
    "from deep_teaching_commons.data.fundamentals.mnist import Mnist"
   ]
  },
  {
   "cell_type": "markdown",
   "metadata": {},
   "source": [
    "## Data"
   ]
  },
  {
   "cell_type": "code",
   "execution_count": 2,
   "metadata": {},
   "outputs": [
    {
     "name": "stdout",
     "output_type": "stream",
     "text": [
      "auto download is active, attempting download\n",
      "mnist data directory already exists, download aborted\n",
      "(60000, 28, 28) (60000,)\n",
      "(60000, 1, 28, 28) (60000,)\n"
     ]
    }
   ],
   "source": [
    "# create mnist loader from deep_teaching_commons\n",
    "mnist_loader = Mnist(data_dir='data')\n",
    "\n",
    "# load all data, labels are one-hot-encoded, images are flatten and pixel squashed between [0,1]\n",
    "train_images, train_labels, test_images, test_labels = mnist_loader.get_all_data(flatten=False, one_hot_enc=False, normalized=True)\n",
    "print(train_images.shape, train_labels.shape)\n",
    "\n",
    "# reshape to match generell framework architecture \n",
    "train_images, test_images = train_images.reshape(60000, 1, 28, 28), test_images.reshape(10000, 1, 28, 28)            \n",
    "print(train_images.shape, train_labels.shape)\n",
    "\n",
    "# shuffle training data\n",
    "shuffle_index = np.random.permutation(60000)\n",
    "train_images, train_labels = train_images[shuffle_index], train_labels[shuffle_index]"
   ]
  },
  {
   "cell_type": "markdown",
   "metadata": {},
   "source": [
    "# MNIST Fully Connected Network Example\n",
    "This model and optimization is taken from `framework_exercise.ipynb` as an example for a typical pipeline using the framework files."
   ]
  },
  {
   "cell_type": "code",
   "execution_count": 3,
   "metadata": {},
   "outputs": [
    {
     "name": "stdout",
     "output_type": "stream",
     "text": [
      "Epoch 1\n",
      "Loss = 0.15460263260243537 :: Training = 0.9611833333333333 :: Test = 0.9573\n",
      "Epoch 2\n",
      "Loss = 0.12667300656428027 :: Training = 0.9725 :: Test = 0.9641\n",
      "Epoch 3\n",
      "Loss = 0.027552837033409962 :: Training = 0.9743 :: Test = 0.9641\n",
      "Epoch 4\n",
      "Loss = 0.03238690976280968 :: Training = 0.9840333333333333 :: Test = 0.9703\n",
      "Epoch 5\n",
      "Loss = 0.05014135909446583 :: Training = 0.9855333333333334 :: Test = 0.9741\n"
     ]
    }
   ],
   "source": [
    "# design a three hidden layer architecture with Dense-Layer\n",
    "# and ReLU as activation function\n",
    "def fcn_mnist():\n",
    "    flat = Flatten()\n",
    "    hidden_01 = FullyConnected(784, 500)\n",
    "    relu_01 = ReLU()\n",
    "    hidden_02 = FullyConnected(500, 200)\n",
    "    relu_02 = ReLU()\n",
    "    hidden_03 = FullyConnected(200, 100)\n",
    "    relu_03 = ReLU()\n",
    "    ouput = FullyConnected(100, 10)\n",
    "    return [flat, hidden_01, relu_01, hidden_02, relu_02, hidden_03, relu_03, ouput]\n",
    "\n",
    "# create a neural network on specified architecture with softmax as score function\n",
    "fcn = NeuralNetwork(fcn_mnist(), score_func=LossCriteria.softmax)\n",
    "\n",
    "# optimize the network and a softmax loss\n",
    "fcn = Optimizer.sgd(fcn, train_images, train_labels, LossCriteria.cross_entropy_softmax, batch_size=64, epoch=5, learning_rate=0.01, X_test=test_images, y_test=test_labels, verbose=True)"
   ]
  },
  {
   "cell_type": "markdown",
   "metadata": {},
   "source": [
    "# Your Extensions and Experiments"
   ]
  },
  {
   "cell_type": "markdown",
   "metadata": {},
   "source": [
    "## Preparations\n",
    "### Download dataset"
   ]
  },
  {
   "cell_type": "code",
   "execution_count": 4,
   "metadata": {},
   "outputs": [
    {
     "name": "stdout",
     "output_type": "stream",
     "text": [
      "(1288, 1850)\n",
      "(1288,)\n",
      "(7,)\n"
     ]
    }
   ],
   "source": [
    "from sklearn.datasets import fetch_lfw_people\n",
    "lfw_people = fetch_lfw_people(min_faces_per_person=70, resize=0.4)\n",
    "\n",
    "# for our network we use the data directly\n",
    "X = lfw_people.data\n",
    "print(X.shape)\n",
    "\n",
    "# the label to predict is the id of the person\n",
    "y = lfw_people.target\n",
    "target_names = lfw_people.target_names\n",
    "print(y.shape)\n",
    "print(target_names.shape)"
   ]
  },
  {
   "cell_type": "markdown",
   "metadata": {},
   "source": [
    "### Some reshape and padding magic"
   ]
  },
  {
   "cell_type": "code",
   "execution_count": 5,
   "metadata": {},
   "outputs": [
    {
     "data": {
      "text/plain": [
       "(1288, 1, 50, 50)"
      ]
     },
     "execution_count": 5,
     "metadata": {},
     "output_type": "execute_result"
    }
   ],
   "source": [
    "X_reshaped = X.reshape(X.shape[0],1,50,37)\n",
    "X_padded = np.pad(X_reshaped, [(0,0),(0,0),(0, 0), (7, 6)], mode='constant')\n",
    "X_padded.shape"
   ]
  },
  {
   "cell_type": "markdown",
   "metadata": {},
   "source": [
    "### Data Augmentation"
   ]
  },
  {
   "cell_type": "code",
   "execution_count": 6,
   "metadata": {},
   "outputs": [
    {
     "data": {
      "text/plain": [
       "<matplotlib.image.AxesImage at 0x7fadcb9d5320>"
      ]
     },
     "execution_count": 6,
     "metadata": {},
     "output_type": "execute_result"
    }
   ],
   "source": [
    "import matplotlib.pyplot as plt\n",
    "plt.imshow(X_padded[0].reshape(50,50))"
   ]
  },
  {
   "cell_type": "markdown",
   "metadata": {},
   "source": [
    "#### Bluring magic"
   ]
  },
  {
   "cell_type": "code",
   "execution_count": 7,
   "metadata": {},
   "outputs": [
    {
     "data": {
      "text/plain": [
       "(1288, 1, 50, 50)"
      ]
     },
     "execution_count": 7,
     "metadata": {},
     "output_type": "execute_result"
    },
    {
     "data": {
      "image/png": "[encoded data removed]",
      "text/plain": [
       "<Figure size 432x288 with 1 Axes>"
      ]
     },
     "metadata": {},
     "output_type": "display_data"
    }
   ],
   "source": [
    "from scipy import ndimage\n",
    "\n",
    "blured_images = [ndimage.uniform_filter(i,size=2) for i in X_padded]\n",
    "\n",
    "plt.imshow(blured_images[0].reshape(50,50))\n",
    "blured_images=np.array(blured_images)\n",
    "blured_images.shape"
   ]
  },
  {
   "cell_type": "code",
   "execution_count": 8,
   "metadata": {},
   "outputs": [
    {
     "name": "stdout",
     "output_type": "stream",
     "text": [
      "(2576, 1, 50, 50)\n"
     ]
    },
    {
     "data": {
      "text/plain": [
       "(2576,)"
      ]
     },
     "execution_count": 8,
     "metadata": {},
     "output_type": "execute_result"
    }
   ],
   "source": [
    "# merging with original set\n",
    "\n",
    "X_merged = np.append(X_padded,blured_images,axis=0)\n",
    "print(X_merged.shape)\n",
    "\n",
    "y_merged = np.append(y,y)\n",
    "y_merged.shape"
   ]
  },
  {
   "cell_type": "markdown",
   "metadata": {},
   "source": [
    "#### Raise contrast"
   ]
  },
  {
   "cell_type": "code",
   "execution_count": 9,
   "metadata": {},
   "outputs": [
    {
     "data": {
      "text/plain": [
       "(2576, 1, 50, 50)"
      ]
     },
     "execution_count": 9,
     "metadata": {},
     "output_type": "execute_result"
    },
    {
     "data": {
      "image/png": "[encoded data removed]",
      "text/plain": [
       "<Figure size 432x288 with 1 Axes>"
      ]
     },
     "metadata": {},
     "output_type": "display_data"
    }
   ],
   "source": [
    "from skimage import exposure\n",
    "\n",
    "v_min, v_max = np.percentile(X_padded[0], (1, 99))\n",
    "better_contrast = [exposure.rescale_intensity(i, in_range=(v_min, v_max)) for i in X_merged]\n",
    "better_contrast = np.array(better_contrast)\n",
    "plt.imshow(better_contrast[0].reshape(50,50))\n",
    "                                              \n",
    "better_contrast.shape"
   ]
  },
  {
   "cell_type": "code",
   "execution_count": 10,
   "metadata": {},
   "outputs": [
    {
     "name": "stdout",
     "output_type": "stream",
     "text": [
      "(5152, 1, 50, 50)\n"
     ]
    },
    {
     "data": {
      "text/plain": [
       "(5152,)"
      ]
     },
     "execution_count": 10,
     "metadata": {},
     "output_type": "execute_result"
    }
   ],
   "source": [
    "X_merged_contrast = np.append(X_merged, better_contrast, axis=0)\n",
    "print(X_merged_contrast.shape)\n",
    "\n",
    "y_merged_contrast = np.append(y_merged,y_merged)\n",
    "y_merged_contrast.shape"
   ]
  },
  {
   "cell_type": "markdown",
   "metadata": {},
   "source": [
    "#### Flipping"
   ]
  },
  {
   "cell_type": "code",
   "execution_count": 11,
   "metadata": {},
   "outputs": [
    {
     "name": "stdout",
     "output_type": "stream",
     "text": [
      "(10304, 1, 50, 50)\n"
     ]
    },
    {
     "data": {
      "text/plain": [
       "(10304,)"
      ]
     },
     "execution_count": 11,
     "metadata": {},
     "output_type": "execute_result"
    },
    {
     "data": {
      "image/png": "[encoded data removed]",
      "text/plain": [
       "<Figure size 432x288 with 1 Axes>"
      ]
     },
     "metadata": {},
     "output_type": "display_data"
    }
   ],
   "source": [
    "flipped_images = np.flip(X_merged_contrast, axis=-1)\n",
    "plt.imshow(flipped_images[0].reshape(50,50))\n",
    "\n",
    "# merging again\n",
    "X_merged_flipping =  np.append(X_merged_contrast, flipped_images, axis=0)\n",
    "print(X_merged_flipping.shape)\n",
    "\n",
    "y_merged_flipping = np.append(y_merged_contrast,y_merged_contrast)\n",
    "y_merged_flipping.shape"
   ]
  },
  {
   "cell_type": "markdown",
   "metadata": {},
   "source": [
    "### Splitting, normalizing and randomizing the Dataset"
   ]
  },
  {
   "cell_type": "code",
   "execution_count": 12,
   "metadata": {},
   "outputs": [
    {
     "name": "stdout",
     "output_type": "stream",
     "text": [
      "Traning: (7728, 1, 50, 50) (7728,)\n",
      "Test: (2576, 1, 50, 50) (2576,)\n"
     ]
    }
   ],
   "source": [
    "from sklearn.model_selection import train_test_split\n",
    "# split into a training and testing set\n",
    "X_train, X_test, y_train, y_test = train_test_split(\n",
    "    X_merged_flipping, y_merged_flipping, test_size=0.25, random_state=42)\n",
    "\n",
    "print(\"Traning:\",X_train.shape,y_train.shape)\n",
    "print(\"Test:\",X_test.shape,y_test.shape)"
   ]
  },
  {
   "cell_type": "code",
   "execution_count": 13,
   "metadata": {},
   "outputs": [
    {
     "name": "stdout",
     "output_type": "stream",
     "text": [
      "train shapes: (7728, 1, 50, 50) ,  (7728,)\n",
      "test shapes: (2576, 1, 50, 50) ,  (2576,)\n"
     ]
    }
   ],
   "source": [
    "# shuffle training data\n",
    "shuffle_index = np.random.permutation(X_train.shape[0])\n",
    "X_train, y_train = X_train[shuffle_index], y_train[shuffle_index]\n",
    "\n",
    "print(\"train shapes:\", X_train.shape, \", \", y_train.shape)\n",
    "print(\"test shapes:\", X_test.shape, \", \", y_test.shape)"
   ]
  },
  {
   "cell_type": "code",
   "execution_count": 14,
   "metadata": {},
   "outputs": [
    {
     "name": "stdout",
     "output_type": "stream",
     "text": [
      "max values 255.0\n",
      "max value 255.0\n",
      "min values 0.0\n",
      "min value 0.0\n"
     ]
    }
   ],
   "source": [
    "print(\"max values\", np.max(X_train))\n",
    "print(\"max value\", np.max(X_test))\n",
    "print(\"min values\", np.min(X_train))\n",
    "print(\"min value\", np.min(X_test))"
   ]
  },
  {
   "cell_type": "code",
   "execution_count": 15,
   "metadata": {},
   "outputs": [
    {
     "name": "stdout",
     "output_type": "stream",
     "text": [
      "max values 1.0\n",
      "min value 1.0\n"
     ]
    }
   ],
   "source": [
    "# to get our matrix values inbetween 0 and 1\n",
    "X_train /= 255\n",
    "X_test /= 255\n",
    "print(\"max values\", np.max(X_train))\n",
    "print(\"min value\", np.max(X_test))"
   ]
  },
  {
   "cell_type": "markdown",
   "metadata": {},
   "source": [
    "### Labels to binary vector - not needed"
   ]
  },
  {
   "cell_type": "raw",
   "metadata": {},
   "source": [
    "from sklearn import preprocessing\n",
    "lb = preprocessing.LabelBinarizer()\n",
    "y_train = lb.fit_transform(y_train)\n",
    "y_test = lb.fit_transform(y_test)\n",
    "print(\"train shapes:\",X_train.shape,\", \", y_train.shape)\n",
    "print(\"test shapes:\",X_test.shape,\", \", y_test.shape)\n",
    "print(y_train[0])"
   ]
  },
  {
   "cell_type": "markdown",
   "metadata": {},
   "source": [
    "## Testing the modell on a different images"
   ]
  },
  {
   "cell_type": "code",
   "execution_count": 16,
   "metadata": {},
   "outputs": [
    {
     "name": "stdout",
     "output_type": "stream",
     "text": [
      "ReLU test\n",
      "Epoch 1\n",
      "Loss = 1.7642921146060209 :: Training = 0.40877329192546585 :: Test = 0.4281832298136646\n",
      "Epoch 2\n",
      "Loss = 1.7122906552542732 :: Training = 0.4311594202898551 :: Test = 0.45108695652173914\n",
      "Epoch 3\n",
      "Loss = 1.662724311983523 :: Training = 0.4442287784679089 :: Test = 0.46389751552795033\n",
      "Epoch 4\n",
      "Loss = 1.6093796405386458 :: Training = 0.4554865424430642 :: Test = 0.47437888198757766\n",
      "Epoch 5\n",
      "Loss = 1.5766709205892067 :: Training = 0.46299171842650105 :: Test = 0.4805900621118012\n"
     ]
    }
   ],
   "source": [
    "# design a three hidden layer architecture with Dense-Layer\n",
    "# and ReLU as activation function\n",
    "def fcn_lfw_test_relu():\n",
    "    flat = Flatten()\n",
    "    hidden_01 = FullyConnected(2500, 500)\n",
    "    relu_01 = ReLU()\n",
    "    hidden_02 = FullyConnected(500, 200)\n",
    "    relu_02 = ReLU()\n",
    "    hidden_03 = FullyConnected(200, 100)\n",
    "    relu_03 = ReLU()\n",
    "    ouput = FullyConnected(100, 7)\n",
    "    return [flat, hidden_01, relu_01, hidden_02, relu_02, hidden_03, relu_03, ouput]\n",
    "\n",
    "print(\"ReLU test\")\n",
    "# create a neural network on specified architecture with softmax as score function\n",
    "fcn_relu = NeuralNetwork(fcn_lfw_test_relu(), score_func=LossCriteria.softmax)\n",
    "\n",
    "# optimize the network and a softmax loss\n",
    "fcn_relu = Optimizer.sgd(fcn_relu, X_train, y_train, LossCriteria.cross_entropy_softmax,\n",
    "                    batch_size=64, epoch=5, learning_rate=0.0001, X_test=X_test,\n",
    "                    y_test=y_test, verbose=True)"
   ]
  },
  {
   "cell_type": "markdown",
   "metadata": {},
   "source": [
    "## Testing activation functions and optimizers"
   ]
  },
  {
   "cell_type": "markdown",
   "metadata": {},
   "source": [
    "### Testing Leaky Relu and sgd_momentum + nesterov"
   ]
  },
  {
   "cell_type": "code",
   "execution_count": 17,
   "metadata": {},
   "outputs": [
    {
     "name": "stdout",
     "output_type": "stream",
     "text": [
      "Leaky Relu + sgd momentum test\n",
      "Epoch 1\n",
      "Loss = 1.8128794486714377 :: Training = 0.4067028985507246 :: Test = 0.42585403726708076\n",
      "Epoch 2\n",
      "Loss = 1.8419666053513353 :: Training = 0.4067028985507246 :: Test = 0.42585403726708076\n",
      "Epoch 3\n",
      "Loss = 1.9894783690213973 :: Training = 0.25789337474120083 :: Test = 0.27290372670807456\n",
      "Epoch 4\n"
     ]
    },
    {
     "name": "stderr",
     "output_type": "stream",
     "text": [
      "/home/s0558366/abgabe/htw_nn_framework/loss_func.py:22: RuntimeWarning: divide by zero encountered in log\n",
      "  log_likelihood = -np.log(p[range(m), y])\n",
      "/home/s0558366/abgabe/htw_nn_framework/loss_func.py:12: RuntimeWarning: invalid value encountered in subtract\n",
      "  exp_X = np.exp(X - np.max(X, axis=1, keepdims=True))\n",
      "/home/s0558366/.local/lib/python3.6/site-packages/numpy/core/_methods.py:26: RuntimeWarning: invalid value encountered in reduce\n",
      "  return umr_maximum(a, axis, None, out, keepdims)\n",
      "/home/s0558366/abgabe/htw_nn_framework/activation_func.py:61: RuntimeWarning: invalid value encountered in less_equal\n",
      "  dX[self.X <= 0] = 0.01\n"
     ]
    },
    {
     "name": "stdout",
     "output_type": "stream",
     "text": [
      "Loss = nan :: Training = 0.061853002070393376 :: Test = 0.05357142857142857\n",
      "Epoch 5\n",
      "Loss = nan :: Training = 0.061853002070393376 :: Test = 0.05357142857142857\n",
      "Leaky Relu + sgd nesterov test\n",
      "Epoch 1\n",
      "Loss = 1.832840612298952 :: Training = 0.23589544513457558 :: Test = 0.23486024844720496\n",
      "Epoch 2\n",
      "Loss = 1.8452374363522102 :: Training = 0.23796583850931677 :: Test = 0.2375776397515528\n",
      "Epoch 3\n",
      "Loss = 11.466733854508995 :: Training = 0.14635093167701863 :: Test = 0.13121118012422361\n",
      "Epoch 4\n",
      "Loss = nan :: Training = 0.061853002070393376 :: Test = 0.05357142857142857\n",
      "Epoch 5\n",
      "Loss = nan :: Training = 0.061853002070393376 :: Test = 0.05357142857142857\n"
     ]
    }
   ],
   "source": [
    "# design a three hidden layer architecture with Dense-Layer\n",
    "# and ReLU as activation function\n",
    "def fcn_lfw():\n",
    "    flat = Flatten()\n",
    "    hidden_01 = FullyConnected(2500, 500)\n",
    "    relu_01 = LeakyReLU()\n",
    "    hidden_02 = FullyConnected(500, 200)\n",
    "    relu_02 = LeakyReLU()\n",
    "    hidden_03 = FullyConnected(200, 100)\n",
    "    relu_03 = LeakyReLU()\n",
    "    ouput = FullyConnected(100, 7)\n",
    "    return [flat, hidden_01, relu_01, hidden_02, relu_02, hidden_03, relu_03, ouput]\n",
    "\n",
    "print(\"Leaky Relu + sgd momentum test\")\n",
    "# create a neural network on specified architecture with softmax as score function\n",
    "fcn_test_momentum = NeuralNetwork(fcn_lfw(), score_func=LossCriteria.softmax)\n",
    "# optimize the network and a softmax loss\n",
    "fcn_test_momentum = Optimizer.sgd_momentum(fcn_test_momentum, X_train, y_train, LossCriteria.cross_entropy_softmax,\n",
    "                    batch_size=64, epoch=5, learning_rate=0.00005,mu=0.9, X_test=X_test,\n",
    "                    y_test=y_test, verbose=True)\n",
    "print(\"Leaky Relu + sgd nesterov test\")\n",
    "# create a neural network on specified architecture with softmax as score function\n",
    "fcn_test_nest = NeuralNetwork(fcn_lfw(), score_func=LossCriteria.softmax)\n",
    "fcn_test_nest = Optimizer.sgd_momentum(fcn_test_nest, X_train, y_train, LossCriteria.cross_entropy_softmax,\n",
    "                    batch_size=64, epoch=5, learning_rate=0.00005,mu=0.9,nesterov = 1, X_test=X_test,\n",
    "                    y_test=y_test, verbose=True)"
   ]
  },
  {
   "cell_type": "markdown",
   "metadata": {},
   "source": [
    "### Testing Sigmoid and adagrad + rmsprop"
   ]
  },
  {
   "cell_type": "code",
   "execution_count": 18,
   "metadata": {},
   "outputs": [
    {
     "name": "stdout",
     "output_type": "stream",
     "text": [
      "sigmoid + adagrad\n",
      "Epoch 1\n",
      "Loss = 2.220227056759286 :: Training = 0.09161490683229814 :: Test = 0.10093167701863354\n",
      "Epoch 2\n",
      "Loss = 2.1956477422859404 :: Training = 0.09161490683229814 :: Test = 0.10093167701863354\n",
      "Epoch 3\n",
      "Loss = 2.1774976114393336 :: Training = 0.09161490683229814 :: Test = 0.10093167701863354\n",
      "Epoch 4\n",
      "Loss = 2.162672999850233 :: Training = 0.09161490683229814 :: Test = 0.10093167701863354\n",
      "Epoch 5\n",
      "Loss = 2.1499704726110878 :: Training = 0.09161490683229814 :: Test = 0.10093167701863354\n",
      "sigmoid + rmsprop\n",
      "Epoch 1\n",
      "Loss = 1.8121063263608697 :: Training = 0.4067028985507246 :: Test = 0.42585403726708076\n",
      "Epoch 2\n",
      "Loss = 1.8139918299076767 :: Training = 0.4067028985507246 :: Test = 0.42585403726708076\n",
      "Epoch 3\n",
      "Loss = 1.8139953975941019 :: Training = 0.4067028985507246 :: Test = 0.42585403726708076\n",
      "Epoch 4\n",
      "Loss = 1.813995404857998 :: Training = 0.4067028985507246 :: Test = 0.42585403726708076\n",
      "Epoch 5\n"
     ]
    },
    {
     "name": "stderr",
     "output_type": "stream",
     "text": [
      "/home/s0558366/abgabe/htw_nn_framework/optimizer.py:176: RuntimeWarning: overflow encountered in square\n",
      "  grad_squared[i] = [mu * temp[0] + (1 - mu) * grad[0] ** 2, mu * temp[1] + (1 - mu) * grad[1] ** 2]\n"
     ]
    },
    {
     "name": "stdout",
     "output_type": "stream",
     "text": [
      "Loss = 1.8139954048747349 :: Training = 0.4067028985507246 :: Test = 0.42585403726708076\n"
     ]
    }
   ],
   "source": [
    "# design a three hidden layer architecture with Dense-Layer\n",
    "# and ReLU as activation function\n",
    "def fcn_lfw():\n",
    "    flat = Flatten()\n",
    "    hidden_01 = FullyConnected(2500, 500)\n",
    "    relu_01 = sigmoid()\n",
    "    hidden_02 = FullyConnected(500, 200)\n",
    "    relu_02 = sigmoid()\n",
    "    hidden_03 = FullyConnected(200, 100)\n",
    "    relu_03 = sigmoid()\n",
    "    ouput = FullyConnected(100, 7)\n",
    "    return [flat, hidden_01, relu_01, hidden_02, relu_02, hidden_03, relu_03, ouput]\n",
    "\n",
    "print(\"sigmoid + adagrad\")\n",
    "# create a neural network on specified architecture with softmax as score function\n",
    "fcn_test_adagrad = NeuralNetwork(fcn_lfw(), score_func=LossCriteria.softmax)\n",
    "# optimize the network and a softmax loss\n",
    "fcn_test_adagrad = Optimizer.adagrad(fcn_test_adagrad, X_train, y_train, LossCriteria.cross_entropy_softmax,\n",
    "                                     batch_size=64, epoch=5, learning_rate=0.00001, X_test=X_test,\n",
    "                                     y_test=y_test, verbose=True)\n",
    "print(\"sigmoid + rmsprop\")\n",
    "# create a neural network on specified architecture with softmax as score function\n",
    "fcn_test_rms = NeuralNetwork(fcn_lfw(), score_func=LossCriteria.softmax)\n",
    "fcn_test_rms = Optimizer.rmsprop(fcn_test_rms, X_train, y_train, LossCriteria.cross_entropy_softmax,\n",
    "                                 batch_size=64, epoch=5, learning_rate=0.0005, X_test=X_test,\n",
    "                                 y_test=y_test, verbose=True)"
   ]
  },
  {
   "cell_type": "markdown",
   "metadata": {},
   "source": [
    "### Testing tan hyperbolic and adadelta + adam"
   ]
  },
  {
   "cell_type": "code",
   "execution_count": 19,
   "metadata": {},
   "outputs": [
    {
     "name": "stdout",
     "output_type": "stream",
     "text": [
      "tanh + adadelta\n",
      "Epoch 1\n",
      "Loss = 2.149985741955899 :: Training = 0.09174430641821946 :: Test = 0.10093167701863354\n",
      "Epoch 2\n",
      "Loss = 2.2665849429872424 :: Training = 0.0552536231884058 :: Test = 0.054736024844720496\n",
      "Epoch 3\n",
      "Loss = 2.1608318264886557 :: Training = 0.0552536231884058 :: Test = 0.054736024844720496\n",
      "Epoch 4\n",
      "Loss = 2.0338670822594973 :: Training = 0.0552536231884058 :: Test = 0.054736024844720496\n",
      "Epoch 5\n",
      "Loss = 2.0127773292784377 :: Training = 0.1873706004140787 :: Test = 0.17080745341614906\n",
      "tanh + adam\n",
      "Epoch 1\n",
      "Loss = 1.8393870196367974 :: Training = 0.4067028985507246 :: Test = 0.42585403726708076\n",
      "Epoch 2\n",
      "Loss = 1.8321604091705712 :: Training = 0.4067028985507246 :: Test = 0.42585403726708076\n",
      "Epoch 3\n",
      "Loss = 1.847179311196075 :: Training = 0.4067028985507246 :: Test = 0.42585403726708076\n",
      "Epoch 4\n",
      "Loss = 1.8444621606990055 :: Training = 0.4067028985507246 :: Test = 0.42585403726708076\n",
      "Epoch 5\n",
      "Loss = 1.8399830219328746 :: Training = 0.4067028985507246 :: Test = 0.42585403726708076\n"
     ]
    }
   ],
   "source": [
    "# design a three hidden layer architecture with Dense-Layer\n",
    "# and ReLU as activation function\n",
    "def fcn_lfw():\n",
    "    flat = Flatten()\n",
    "    hidden_01 = FullyConnected(2500, 500)\n",
    "    relu_01 = tanh()\n",
    "    hidden_02 = FullyConnected(500, 200)\n",
    "    relu_02 = tanh()\n",
    "    hidden_03 = FullyConnected(200, 100)\n",
    "    relu_03 = tanh()\n",
    "    ouput = FullyConnected(100, 7)\n",
    "    return [flat, hidden_01, relu_01, hidden_02, relu_02, hidden_03, relu_03, ouput]\n",
    "\n",
    "\n",
    "print(\"tanh + adadelta\")\n",
    "# create a neural network on specified architecture with softmax as score function\n",
    "fcn_test_adadelta = NeuralNetwork(fcn_lfw(), score_func=LossCriteria.softmax)\n",
    "# optimize the network and a softmax loss\n",
    "fcn_test_adadelta = Optimizer.adadelta(fcn_test_adadelta, X_train, y_train, LossCriteria.cross_entropy_softmax,\n",
    "                    batch_size=64, epoch=5,mu=0.1,learning_rate=1, X_test=X_test,\n",
    "                    y_test=y_test, verbose=True)\n",
    "\n",
    "print(\"tanh + adam\")\n",
    "#create a neural network on specified architecture with softmax as score function\n",
    "fcn_test_adam = NeuralNetwork(fcn_lfw(), score_func=LossCriteria.softmax)\n",
    "fcn_test_adam = Optimizer.adam(fcn_test_adam, X_train, y_train, LossCriteria.cross_entropy_softmax,\n",
    "                    batch_size=64, epoch=5,learning_rate=0.01, X_test=X_test,\n",
    "                    y_test=y_test, verbose=True)"
   ]
  },
  {
   "cell_type": "markdown",
   "metadata": {},
   "source": [
    "## Conv + Pooling Layer Test"
   ]
  },
  {
   "cell_type": "markdown",
   "metadata": {},
   "source": [
    "### MNIST test"
   ]
  },
  {
   "cell_type": "code",
   "execution_count": 23,
   "metadata": {},
   "outputs": [
    {
     "name": "stdout",
     "output_type": "stream",
     "text": [
      "Epoch 1\n",
      "Loss = 0.2743135238607054 :: Training = 0.9368666666666666 :: Test = 0.932\n",
      "Epoch 2\n",
      "Loss = 0.2914166543963353 :: Training = 0.9101333333333333 :: Test = 0.9007\n",
      "Epoch 3\n",
      "Loss = 0.25938087895090395 :: Training = 0.95675 :: Test = 0.9465\n",
      "Epoch 4\n",
      "Loss = 0.2599325501559736 :: Training = 0.9345166666666667 :: Test = 0.9202\n",
      "Epoch 5\n",
      "Loss = 0.2879404094865853 :: Training = 0.9601 :: Test = 0.9477\n"
     ]
    }
   ],
   "source": [
    "# design a three hidden layer architecture with Dense-Layer\n",
    "# and ReLU as activation function\n",
    "def fcn_conv_test():\n",
    "    conv_01 = Conv(1, 16, (3, 3), stride=2, padding=0)\n",
    "    conv_02 = Conv(16, 32, (3, 3), stride=2, padding=0)\n",
    "    max_pooling = Pool()\n",
    "    flat = Flatten()\n",
    "    hidden_01 = FullyConnected(288, 500)\n",
    "    relu_03 = ReLU()\n",
    "    hidden_02 = FullyConnected(500, 200)\n",
    "    relu_04 = ReLU()\n",
    "    hidden_03 = FullyConnected(200, 100)\n",
    "    relu_05 = ReLU()\n",
    "    ouput = FullyConnected(100, 10)\n",
    "    return [conv_01, conv_02, max_pooling, flat, hidden_01, relu_03, hidden_02, relu_04, hidden_03, relu_05, ouput]\n",
    "\n",
    "\n",
    "# create a neural network on specified architecture with softmax as score function\n",
    "fcn_conv_test_1 = NeuralNetwork(fcn_conv_test(), score_func=LossCriteria.softmax)\n",
    "\n",
    "# optimize the network and a softmax loss\n",
    "fcn_conv_test_1 = Optimizer.adam(fcn_conv_test_1, train_images, train_labels, LossCriteria.cross_entropy_softmax, batch_size=64,\n",
    "                    epoch=5, learning_rate=0.001, X_test=test_images, y_test=test_labels, verbose=True)"
   ]
  },
  {
   "cell_type": "markdown",
   "metadata": {},
   "source": [
    "### LFW test"
   ]
  },
  {
   "cell_type": "code",
   "execution_count": 24,
   "metadata": {},
   "outputs": [
    {
     "name": "stdout",
     "output_type": "stream",
     "text": [
      "Epoch 1\n",
      "Loss = 1.644578362550402 :: Training = 0.4531573498964803 :: Test = 0.47127329192546585\n",
      "Epoch 2\n",
      "Loss = 1.52452577302513 :: Training = 0.5106107660455487 :: Test = 0.515527950310559\n",
      "Epoch 3\n",
      "Loss = 1.4533093404521764 :: Training = 0.5182453416149069 :: Test = 0.5178571428571429\n",
      "Epoch 4\n",
      "Loss = 1.3255074967568865 :: Training = 0.5520186335403726 :: Test = 0.5566770186335404\n",
      "Epoch 5\n",
      "Loss = 1.2646599273461587 :: Training = 0.5646997929606625 :: Test = 0.5648291925465838\n"
     ]
    }
   ],
   "source": [
    "# design a three hidden layer architecture with Dense-Layer\n",
    "# and ReLU as activation function\n",
    "def fcn_conv_test():\n",
    "    conv_01 = Conv(1, 16, (3, 3), stride=2, padding=0)\n",
    "    conv_02 = Conv(16, 32, (3, 3), stride=2, padding=0)\n",
    "    max_pooling = Pool()\n",
    "    flat = Flatten()\n",
    "    hidden_01 = FullyConnected(800, 500)\n",
    "    relu_03 = ReLU()\n",
    "    hidden_02 = FullyConnected(500, 200)\n",
    "    relu_04 = ReLU()\n",
    "    hidden_03 = FullyConnected(200, 100)\n",
    "    relu_05 = ReLU()\n",
    "    ouput = FullyConnected(100, 7)\n",
    "    return [conv_01, conv_02, max_pooling, flat, hidden_01, relu_03, hidden_02, relu_04, hidden_03, relu_05, ouput]\n",
    "\n",
    "\n",
    "# create a neural network on specified architecture with softmax as score function\n",
    "fcn_conv_test_2 = NeuralNetwork(fcn_conv_test(), score_func=LossCriteria.softmax)\n",
    "\n",
    "# optimize the network and a softmax loss\n",
    "fcn_conv_test_2 = Optimizer.adam(fcn_conv_test_2, X_train, y_train, LossCriteria.cross_entropy_softmax, batch_size=64,\n",
    "                    epoch=5, learning_rate=0.001, X_test=X_test, y_test=y_test, verbose=True)"
   ]
  },
  {
   "cell_type": "markdown",
   "metadata": {},
   "source": [
    "## Dropout layer test"
   ]
  },
  {
   "cell_type": "markdown",
   "metadata": {},
   "source": [
    "### MNIST test \n"
   ]
  },
  {
   "cell_type": "code",
   "execution_count": 25,
   "metadata": {},
   "outputs": [
    {
     "name": "stdout",
     "output_type": "stream",
     "text": [
      "Epoch 1\n",
      "Loss = 0.6814850858774942 :: Training = 0.7379833333333333 :: Test = 0.7441\n",
      "Epoch 2\n",
      "Loss = 0.5632370103166591 :: Training = 0.7699 :: Test = 0.7736\n",
      "Epoch 3\n",
      "Loss = 0.575874269619538 :: Training = 0.7875833333333333 :: Test = 0.7933\n",
      "Epoch 4\n",
      "Loss = 0.615551496582052 :: Training = 0.8014833333333333 :: Test = 0.801\n",
      "Epoch 5\n",
      "Loss = 0.5483758213837259 :: Training = 0.8096166666666667 :: Test = 0.8161\n"
     ]
    }
   ],
   "source": [
    "# design a three hidden layer architecture with Dense-Layer\n",
    "# and ReLU as activation function\n",
    "def fcn_presentation():\n",
    "    conv_01 = Conv(1, 32, (3, 3), stride=1, padding=0)\n",
    "    conv_02 = Conv(32, 64, (3, 3), stride=1, padding=0)\n",
    "    max_pool = Pool()\n",
    "    dropout_01 = Dropout(0.25)\n",
    "    flat = Flatten()\n",
    "    hidden_01 = FullyConnected(784, 128)\n",
    "    relu_03 = ReLU()\n",
    "    dropout_02 = Dropout()\n",
    "    output = FullyConnected(128, 10)\n",
    "    return [dropout_01, flat, hidden_01, relu_03, dropout_02, output]\n",
    "#conv_01, conv_02, max_pool, \n",
    "\n",
    "# create a neural network on specified architecture with softmax as score function\n",
    "fcn_presentation = NeuralNetwork(\n",
    "    fcn_presentation(), score_func=LossCriteria.softmax)\n",
    "# optimize the network and a softmax loss\n",
    "fcn_presentation = Optimizer.adam(fcn_presentation, train_images, train_labels, LossCriteria.cross_entropy_softmax, batch_size=128,\n",
    "                                 epoch=5, learning_rate=0.001, X_test=test_images, y_test=test_labels, verbose=True)"
   ]
  },
  {
   "cell_type": "markdown",
   "metadata": {},
   "source": [
    "### LFW test"
   ]
  },
  {
   "cell_type": "code",
   "execution_count": 26,
   "metadata": {},
   "outputs": [
    {
     "name": "stdout",
     "output_type": "stream",
     "text": [
      "Epoch 1\n",
      "Loss = 1.9841268504094753 :: Training = 0.4001035196687371 :: Test = 0.4169254658385093\n",
      "Epoch 2\n",
      "Loss = 1.8589618902247143 :: Training = 0.4048913043478261 :: Test = 0.421972049689441\n",
      "Epoch 3\n",
      "Loss = 1.8005494131730277 :: Training = 0.40372670807453415 :: Test = 0.42274844720496896\n",
      "Epoch 4\n",
      "Loss = 1.780875084039959 :: Training = 0.40515010351966874 :: Test = 0.42430124223602483\n",
      "Epoch 5\n",
      "Loss = 1.7819372174673085 :: Training = 0.4065734989648033 :: Test = 0.42430124223602483\n",
      "Epoch 6\n",
      "Loss = 1.7867720699996952 :: Training = 0.40631469979296064 :: Test = 0.4254658385093168\n",
      "Epoch 7\n",
      "Loss = 1.761214503805375 :: Training = 0.40618530020703936 :: Test = 0.42585403726708076\n",
      "Epoch 8\n",
      "Loss = 1.7842623999533085 :: Training = 0.40631469979296064 :: Test = 0.4254658385093168\n",
      "Epoch 9\n",
      "Loss = 1.7857556206464276 :: Training = 0.40631469979296064 :: Test = 0.42507763975155277\n",
      "Epoch 10\n",
      "Loss = 1.7869621345392048 :: Training = 0.40618530020703936 :: Test = 0.4254658385093168\n"
     ]
    }
   ],
   "source": [
    "# design a three hidden layer architecture with Dense-Layer\n",
    "# and ReLU as activation function\n",
    "def fcn_presentation():\n",
    "    conv_01 = Conv(1, 32, (3, 3), stride=2, padding=0)\n",
    "    conv_02 = Conv(32, 64, (3, 3), stride=2, padding=0)\n",
    "    max_pool = Pool()\n",
    "    dropout_01 = Dropout(0.25)\n",
    "    flat = Flatten()\n",
    "    hidden_01 = FullyConnected(1600, 128)\n",
    "    relu_03 = ReLU()\n",
    "    dropout_02 = Dropout()\n",
    "    output = FullyConnected(128, 7)\n",
    "    return [conv_01, conv_02, max_pool, dropout_01, flat, hidden_01, relu_03, dropout_02, output]\n",
    "\n",
    "# create a neural network on specified architecture with softmax as score function\n",
    "fcn_presentation_lfw = NeuralNetwork(\n",
    "    fcn_presentation(), score_func=LossCriteria.softmax)\n",
    "# optimize the network and a softmax loss\n",
    "fcn_presentation_lfw = Optimizer.rmsprop(fcn_presentation_lfw, X_train, y_train, LossCriteria.cross_entropy_softmax, batch_size=64,\n",
    "                                 epoch=10, learning_rate=0.001, X_test=X_test, y_test=y_test, verbose=True)"
   ]
  },
  {
   "cell_type": "markdown",
   "metadata": {},
   "source": [
    "## Batchnorm layer test"
   ]
  },
  {
   "cell_type": "code",
   "execution_count": null,
   "metadata": {},
   "outputs": [],
   "source": []
  }
 ],
 "metadata": {
  "kernelspec": {
   "display_name": "Python 3",
   "language": "python",
   "name": "python3"
  },
  "language_info": {
   "codemirror_mode": {
    "name": "ipython",
    "version": 3
   },
   "file_extension": ".py",
   "mimetype": "text/x-python",
   "name": "python",
   "nbconvert_exporter": "python",
   "pygments_lexer": "ipython3",
   "version": "3.6.5"
  },
  "toc": {
   "base_numbering": 1,
   "nav_menu": {},
   "number_sections": true,
   "sideBar": true,
   "skip_h1_title": false,
   "title_cell": "Table of Contents",
   "title_sidebar": "Contents",
   "toc_cell": false,
   "toc_position": {},
   "toc_section_display": true,
   "toc_window_display": false
  }
 },
 "nbformat": 4,
 "nbformat_minor": 2
}
